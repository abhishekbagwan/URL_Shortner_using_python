{
 "cells": [
  {
   "cell_type": "markdown",
   "id": "543e0c04",
   "metadata": {},
   "source": [
    "  <center>\n",
    "    <h1 style= \"background-color:purple; color:white; font-size:30px; font-weight:bold; font-family:Time New Roman; boder:2px solid black;\"> Task-3  URL Shortner using python </h1>\n",
    "    </center>\n"
   ]
  },
  {
   "cell_type": "code",
   "execution_count": 1,
   "id": "26cd293c",
   "metadata": {},
   "outputs": [
    {
     "name": "stdout",
     "output_type": "stream",
     "text": [
      "Defaulting to user installation because normal site-packages is not writeable\n",
      "Requirement already satisfied: pyshorteners in c:\\users\\other user\\appdata\\roaming\\python\\python39\\site-packages (1.0.1)\n",
      "Requirement already satisfied: requests in c:\\programdata\\anaconda3\\lib\\site-packages (from pyshorteners) (2.28.1)\n",
      "Requirement already satisfied: certifi>=2017.4.17 in c:\\programdata\\anaconda3\\lib\\site-packages (from requests->pyshorteners) (2022.9.14)\n",
      "Requirement already satisfied: idna<4,>=2.5 in c:\\programdata\\anaconda3\\lib\\site-packages (from requests->pyshorteners) (3.3)\n",
      "Requirement already satisfied: urllib3<1.27,>=1.21.1 in c:\\programdata\\anaconda3\\lib\\site-packages (from requests->pyshorteners) (1.26.11)\n",
      "Requirement already satisfied: charset-normalizer<3,>=2 in c:\\programdata\\anaconda3\\lib\\site-packages (from requests->pyshorteners) (2.0.4)\n",
      "Note: you may need to restart the kernel to use updated packages.\n"
     ]
    }
   ],
   "source": [
    "\n",
    "pip install pyshorteners"
   ]
  },
  {
   "cell_type": "markdown",
   "id": "00cfe916",
   "metadata": {},
   "source": [
    "   -->  Objective: The main objective of the \"URL Shortener using Python\" project is to develop a user-friendly and efficient web application that allows users to shorten long URLs into compact, shareable links."
   ]
  },
  {
   "cell_type": "code",
   "execution_count": null,
   "id": "cb6411f7",
   "metadata": {},
   "outputs": [],
   "source": [
    "\n",
    "\n",
    "# import the pyshorteners library\n",
    "#import pyshorteners\n",
    "\n",
    "import pyshorteners\n",
    "\n",
    "def main():\n",
    "    # Prompt the user to enter the URL to shorten\n",
    "    long_url = input(\"Enter the URL to shorten: \")\n",
    "\n",
    "    try:\n",
    "        # Create an instance of the Shortener class and initialize to use the TinyURL shortener service\n",
    "        type_tiny = pyshorteners.Shortener()\n",
    "\n",
    "        # Use the TinyURL shortener service to shorten the long URL\n",
    "        short_url = type_tiny.tinyurl.short(long_url)\n",
    "        \n",
    "        print(\"\\n\")\n",
    "\n",
    "        # Display the shortened URL to the user\n",
    "        print(\"The shortened URL is :\", short_url)\n",
    "    except Exception as e:\n",
    "        print(\"An error occurred:\", str(e))\n",
    "\n",
    "if __name__ == \"__main__\":\n",
    "    main()\n",
    "\n",
    "\n"
   ]
  },
  {
   "cell_type": "markdown",
   "id": "8186dc90",
   "metadata": {},
   "source": [
    "  <center>\n",
    "    <h1 style= \"background-color:ORANGE; color:white; font-size:30px; font-weight:bold; font-family:Time New Roman; boder:2px solid black;\"> THANK YOU </h1>\n",
    "    </center>\n"
   ]
  },
  {
   "cell_type": "code",
   "execution_count": null,
   "id": "8c7d0560",
   "metadata": {},
   "outputs": [],
   "source": []
  }
 ],
 "metadata": {
  "kernelspec": {
   "display_name": "Python 3 (ipykernel)",
   "language": "python",
   "name": "python3"
  },
  "language_info": {
   "codemirror_mode": {
    "name": "ipython",
    "version": 3
   },
   "file_extension": ".py",
   "mimetype": "text/x-python",
   "name": "python",
   "nbconvert_exporter": "python",
   "pygments_lexer": "ipython3",
   "version": "3.9.13"
  }
 },
 "nbformat": 4,
 "nbformat_minor": 5
}
